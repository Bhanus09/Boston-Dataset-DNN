{
  "nbformat": 4,
  "nbformat_minor": 0,
  "metadata": {
    "colab": {
      "name": "Boston_V1_BS.ipynb",
      "provenance": []
    },
    "kernelspec": {
      "name": "python3",
      "display_name": "Python 3"
    }
  },
  "cells": [
    {
      "cell_type": "code",
      "metadata": {
        "id": "vGmAy-rIPTwL",
        "colab_type": "code",
        "colab": {}
      },
      "source": [
        "import numpy as np\n",
        "import matplotlib\n",
        "import matplotlib.pyplot as plt\n",
        "import tensorflow as tf\n",
        "from tensorflow.contrib import learn\n",
        "from sklearn.model_selection import cross_validate,train_test_split\n",
        "from sklearn import preprocessing\n",
        "from sklearn import metrics\n",
        "from __future__ import print_function\n",
        "\n",
        "%matplotlib inline"
      ],
      "execution_count": 0,
      "outputs": []
    },
    {
      "cell_type": "code",
      "metadata": {
        "id": "DtePyidebSUK",
        "colab_type": "code",
        "outputId": "5b6b5bff-e3f4-42b1-e9f0-32ac306eca0e",
        "colab": {
          "base_uri": "https://localhost:8080/",
          "height": 87
        }
      },
      "source": [
        "boston = learn.datasets.load_dataset('boston')\n",
        "#print( \"boston = \", boston )\n",
        "x, y = boston.data, boston.target\n",
        "y.resize( y.size, 1 ) #make y = [[x], [x], [x], ... ]\n",
        "train_x, test_x, train_y, test_y =train_test_split(\n",
        "x, y, test_size=0.2, random_state=42)\n",
        "print( \"Dimension of Boston test_x = \", test_x.shape )\n",
        "print( \"Dimension of test_y = \", test_y.shape )\n",
        "print( \"Dimension of Boston train_x = \", train_x.shape )\n",
        "print( \"Dimension of train_y = \", train_y.shape )\n"
      ],
      "execution_count": 0,
      "outputs": [
        {
          "output_type": "stream",
          "text": [
            "Dimension of Boston test_x =  (102, 13)\n",
            "Dimension of test_y =  (102, 1)\n",
            "Dimension of Boston train_x =  (404, 13)\n",
            "Dimension of train_y =  (404, 1)\n"
          ],
          "name": "stdout"
        }
      ]
    },
    {
      "cell_type": "code",
      "metadata": {
        "id": "DZ__1iIYdys8",
        "colab_type": "code",
        "colab": {}
      },
      "source": [
        "scaler = preprocessing.StandardScaler( )\n",
        "train_x = scaler.fit_transform( train_x )\n",
        "test_x = scaler.fit_transform( test_x )\n"
      ],
      "execution_count": 0,
      "outputs": []
    },
    {
      "cell_type": "code",
      "metadata": {
        "id": "ZXtbrNr7d4rk",
        "colab_type": "code",
        "outputId": "61c23c65-7f55-4774-9767-a56de93434f0",
        "colab": {
          "base_uri": "https://localhost:8080/",
          "height": 34
        }
      },
      "source": [
        "numFeatures = train_x.shape[1]\n",
        "print( \"number of features = \", numFeatures )"
      ],
      "execution_count": 0,
      "outputs": [
        {
          "output_type": "stream",
          "text": [
            "number of features =  13\n"
          ],
          "name": "stdout"
        }
      ]
    },
    {
      "cell_type": "code",
      "metadata": {
        "id": "qStltw2Wd9f-",
        "colab_type": "code",
        "colab": {}
      },
      "source": [
        "with tf.name_scope(\"IO\"):\n",
        "  inputs = tf.placeholder(tf.float32, [None, numFeatures], name=\"X\")\n",
        "  outputs = tf.placeholder(tf.float32, [None, 1], name=\"Yhat\")"
      ],
      "execution_count": 0,
      "outputs": []
    },
    {
      "cell_type": "code",
      "metadata": {
        "id": "6YK8h0vdehD3",
        "colab_type": "code",
        "colab": {}
      },
      "source": [
        ""
      ],
      "execution_count": 0,
      "outputs": []
    },
    {
      "cell_type": "code",
      "metadata": {
        "id": "nvdwsJ4BeS5k",
        "colab_type": "code",
        "colab": {}
      },
      "source": [
        "with tf.name_scope(\"LAYER\"):\n",
        "    # network architecture\n",
        "    Layers = [numFeatures, 52, 39, 26, 13, 1]\n",
        "    \n",
        "    h1   = tf.Variable(tf.random_normal([Layers[0], Layers[1]], 0, 0.1, dtype=tf.float32), name=\"h1\")\n",
        "    h2   = tf.Variable(tf.random_normal([Layers[1], Layers[2]], 0, 0.1, dtype=tf.float32), name=\"h2\")\n",
        "    h3   = tf.Variable(tf.random_normal([Layers[2], Layers[3]], 0, 0.1, dtype=tf.float32), name=\"h3\")\n",
        "    h4   = tf.Variable(tf.random_normal([Layers[3], Layers[4]], 0, 0.1, dtype=tf.float32), name=\"h4\")\n",
        "    hout = tf.Variable(tf.random_normal([Layers[4], Layers[5]], 0, 0.1, dtype=tf.float32), name=\"hout\")\n",
        "\n",
        "    b1   = tf.Variable(tf.random_normal([Layers[1]], 0, 0.1, dtype=tf.float32 ), name=\"b1\" )\n",
        "    b2   = tf.Variable(tf.random_normal([Layers[2]], 0, 0.1, dtype=tf.float32 ), name=\"b2\" )\n",
        "    b3   = tf.Variable(tf.random_normal([Layers[3]], 0, 0.1, dtype=tf.float32 ), name=\"b3\" )\n",
        "    b4   = tf.Variable(tf.random_normal([Layers[4]], 0, 0.1, dtype=tf.float32 ), name=\"b4\" )\n",
        "    bout = tf.Variable(tf.random_normal([Layers[5]], 0, 0.1, dtype=tf.float32 ), name=\"bout\" )"
      ],
      "execution_count": 0,
      "outputs": []
    },
    {
      "cell_type": "code",
      "metadata": {
        "id": "ltATAZ6qeS5t",
        "colab_type": "code",
        "colab": {}
      },
      "source": [
        "def model( inputs, layers ):\n",
        "    [h1, b1, h2, b2, h3, b3, hout, bout] = layers\n",
        "    y1 = tf.add( tf.matmul(inputs, h1), b1 )\n",
        "    y1 = tf.nn.sigmoid( y1 )\n",
        "       \n",
        "    y2 = tf.add( tf.matmul(y1, h2), b2 )\n",
        "    y2 = tf.nn.sigmoid( y2 )\n",
        "\n",
        "    y3 = tf.add( tf.matmul(y2, h3), b3 )\n",
        "    y3 = tf.nn.sigmoid( y3 )\n",
        "\n",
        "    y4 = tf.add( tf.matmul(y3, h4), b4 )\n",
        "    y4 = tf.nn.sigmoid( y4 )\n",
        "\n",
        "    yret  = tf.matmul(y4, hout) + bout \n",
        "    return yret"
      ],
      "execution_count": 0,
      "outputs": []
    },
    {
      "cell_type": "code",
      "metadata": {
        "id": "DhgYUmCQeS52",
        "colab_type": "code",
        "outputId": "de233da5-78f0-4cd4-8ac6-88548d214aac",
        "colab": {
          "base_uri": "https://localhost:8080/",
          "height": 142
        }
      },
      "source": [
        "with tf.name_scope(\"train\"):\n",
        "    learning_rate = 0.50\n",
        "    yout = model( inputs, [h1, b1, h2, b2, h3, b3, hout, bout] )\n",
        "    \n",
        "    cost_op = tf.reduce_mean( tf.pow( yout - outputs, 2 ))\n",
        "    #cost_op = tf.reduce_sum( tf.pow( yout - outputs, 2 ))\n",
        "    #cost_op =  tf.reduce_mean(-tf.reduce_sum( yout * tf.log( outputs ) ) )\n",
        "\n",
        "    #train_op = tf.train.GradientDescentOptimizer(learning_rate).minimize(cost_op)\n",
        "    #train_op = tf.train.AdamOptimizer( learning_rate=learning_rate ).minimize( cost_op )\n",
        "    train_op = tf.train.AdagradOptimizer( learning_rate=learning_rate ).minimize( cost_op )"
      ],
      "execution_count": 0,
      "outputs": [
        {
          "output_type": "stream",
          "text": [
            "W0802 22:36:36.549398 140110409021312 deprecation.py:323] From /usr/local/lib/python3.6/dist-packages/tensorflow/python/ops/math_grad.py:1205: add_dispatch_support.<locals>.wrapper (from tensorflow.python.ops.array_ops) is deprecated and will be removed in a future version.\n",
            "Instructions for updating:\n",
            "Use tf.where in 2.0, which has the same broadcast rule as np.where\n",
            "W0802 22:36:36.638106 140110409021312 deprecation.py:506] From /usr/local/lib/python3.6/dist-packages/tensorflow/python/training/adagrad.py:76: calling Constant.__init__ (from tensorflow.python.ops.init_ops) with dtype is deprecated and will be removed in a future version.\n",
            "Instructions for updating:\n",
            "Call initializer instance with the dtype argument instead of passing it to the constructor\n"
          ],
          "name": "stderr"
        }
      ]
    },
    {
      "cell_type": "code",
      "metadata": {
        "id": "g4y7RzgpeS5_",
        "colab_type": "code",
        "outputId": "963ddc7b-1f9f-4b55-f1a0-9d6f1fe3e4e6",
        "colab": {
          "base_uri": "https://localhost:8080/",
          "height": 1000
        }
      },
      "source": [
        "# define variables/constants that control the training\n",
        "epoch = 0\n",
        "last_cost = 0\n",
        "max_epochs = 50000\n",
        "tolerance = 1e-6\n",
        "\n",
        "print( \"Beginning Training\" )\n",
        "\n",
        "sess = tf.Session() # Create TensorFlow session\n",
        "with sess.as_default():\n",
        "    \n",
        "    # initialize the variables\n",
        "    init = tf.initialize_all_variables()\n",
        "    sess.run(init)\n",
        "    \n",
        "    # start training until we stop, either because we've reached the max\n",
        "    # number of epochs, or successive errors are close enough to each other\n",
        "    # (less than tolerance)\n",
        "    \n",
        "    costs = []\n",
        "    epochs= []\n",
        "    while True:\n",
        "        # Do the training\n",
        "        sess.run( train_op, feed_dict={inputs: train_x, outputs: train_y} )\n",
        "            \n",
        "        # Update the user every 1000 epochs\n",
        "        if epoch % 1000==0:\n",
        "            cost = sess.run(cost_op, feed_dict={inputs: train_x, outputs: train_y})\n",
        "            costs.append( cost )\n",
        "            epochs.append( epoch )\n",
        "            \n",
        "            print( \"Epoch: %d - Error: %.4f\" %(epoch, cost) )\n",
        "            \n",
        "            # time to stop?\n",
        "            if epoch > max_epochs :\n",
        "                # or abs(last_cost - cost) < tolerance:\n",
        "                print( \"STOP!\" )\n",
        "                break\n",
        "            last_cost = cost\n",
        "            \n",
        "        epoch += 1\n",
        "    \n",
        "    # we're done...\n",
        "    # print some statistics...\n",
        "    \n",
        "    print( \"Test Cost =\", sess.run(cost_op, feed_dict={inputs: test_x, outputs: test_y}) )\n",
        "\n",
        "    # compute the predicted output for test_x\n",
        "    pred_y = sess.run( yout, feed_dict={inputs: test_x, outputs: test_y} )\n",
        "    \n",
        "    print( \"\\nPrediction\\nreal\\tpredicted\" )\n",
        "#     for (y, yHat ) in zip( test_y, pred_y )[0:10]:\n",
        "#         print( \"%1.1f\\t%1.1f\" % (y, yHat ) )\n",
        "    "
      ],
      "execution_count": 0,
      "outputs": [
        {
          "output_type": "stream",
          "text": [
            "Beginning Training\n",
            "Epoch: 0 - Error: 376.1202\n",
            "Epoch: 1000 - Error: 2.1602\n",
            "Epoch: 2000 - Error: 0.9187\n",
            "Epoch: 3000 - Error: 0.6364\n",
            "Epoch: 4000 - Error: 0.4874\n",
            "Epoch: 5000 - Error: 0.3562\n",
            "Epoch: 6000 - Error: 0.2887\n",
            "Epoch: 7000 - Error: 0.2575\n",
            "Epoch: 8000 - Error: 0.2321\n",
            "Epoch: 9000 - Error: 0.2062\n",
            "Epoch: 10000 - Error: 0.1813\n",
            "Epoch: 11000 - Error: 0.1562\n",
            "Epoch: 12000 - Error: 0.1437\n",
            "Epoch: 13000 - Error: 0.1356\n",
            "Epoch: 14000 - Error: 0.1061\n",
            "Epoch: 15000 - Error: 0.0813\n",
            "Epoch: 16000 - Error: 0.0712\n",
            "Epoch: 17000 - Error: 0.0754\n",
            "Epoch: 18000 - Error: 0.0598\n",
            "Epoch: 19000 - Error: 0.0562\n",
            "Epoch: 20000 - Error: 0.0486\n",
            "Epoch: 21000 - Error: 0.0434\n",
            "Epoch: 22000 - Error: 0.0390\n",
            "Epoch: 23000 - Error: 0.0361\n",
            "Epoch: 24000 - Error: 0.0301\n",
            "Epoch: 25000 - Error: 0.0263\n",
            "Epoch: 26000 - Error: 0.0241\n",
            "Epoch: 27000 - Error: 0.0204\n",
            "Epoch: 28000 - Error: 0.0183\n",
            "Epoch: 29000 - Error: 0.0164\n",
            "Epoch: 30000 - Error: 0.0145\n",
            "Epoch: 31000 - Error: 0.0138\n",
            "Epoch: 32000 - Error: 0.0128\n",
            "Epoch: 33000 - Error: 0.0120\n",
            "Epoch: 34000 - Error: 0.0113\n",
            "Epoch: 35000 - Error: 0.0107\n",
            "Epoch: 36000 - Error: 0.0105\n",
            "Epoch: 37000 - Error: 0.0094\n",
            "Epoch: 38000 - Error: 0.0091\n",
            "Epoch: 39000 - Error: 0.0093\n",
            "Epoch: 40000 - Error: 0.0088\n",
            "Epoch: 41000 - Error: 0.0085\n",
            "Epoch: 42000 - Error: 0.0082\n",
            "Epoch: 43000 - Error: 0.0080\n",
            "Epoch: 44000 - Error: 0.0077\n",
            "Epoch: 45000 - Error: 0.0075\n",
            "Epoch: 46000 - Error: 0.0072\n",
            "Epoch: 47000 - Error: 0.0070\n",
            "Epoch: 48000 - Error: 0.0068\n",
            "Epoch: 49000 - Error: 0.0065\n",
            "Epoch: 50000 - Error: 0.0063\n",
            "Epoch: 51000 - Error: 0.0061\n",
            "STOP!\n",
            "Test Cost = 15.846936\n",
            "\n",
            "Prediction\n",
            "real\tpredicted\n"
          ],
          "name": "stdout"
        }
      ]
    },
    {
      "cell_type": "code",
      "metadata": {
        "id": "q6nOtNlFeS6I",
        "colab_type": "code",
        "outputId": "90382d02-55e9-41db-e2ef-54718b59a7ab",
        "colab": {
          "base_uri": "https://localhost:8080/",
          "height": 52
        }
      },
      "source": [
        "r2 =  metrics.r2_score(test_y, pred_y) \n",
        "print( \"mean squared error = \", metrics.mean_squared_error(test_y, pred_y))\n",
        "print( \"r2 score (coef determination) = \", metrics.r2_score(test_y, pred_y))"
      ],
      "execution_count": 0,
      "outputs": [
        {
          "output_type": "stream",
          "text": [
            "mean squared error =  15.846934652273562\n",
            "r2 score (coef determination) =  0.783906762076779\n"
          ],
          "name": "stdout"
        }
      ]
    },
    {
      "cell_type": "code",
      "metadata": {
        "id": "5KDf2QY2eS6P",
        "colab_type": "code",
        "outputId": "514db1b4-56db-4e1f-ee40-205b9defdb4a",
        "colab": {
          "base_uri": "https://localhost:8080/",
          "height": 573
        }
      },
      "source": [
        "    \n",
        "    fig = plt.figure()\n",
        "    plt.scatter( test_y, pred_y )\n",
        "    plt.text(5, 50, r'r2 = %1.4f' % r2)\n",
        "    plt.xlabel( \"Test y\" )\n",
        "    plt.ylabel( \"predicted y\" )\n",
        "    plt.title( \"Prediction vs. Actual Y\" )\n",
        "    #plt.save( \"images/sigmoid_adagrad_52_39_26_13_1.png\")\n",
        "    plt.show()\n",
        "    fig.savefig('PredVsRealBoston.png', bbox_inches='tight')\n",
        "    \n",
        "    fig = plt.figure()\n",
        "    plt.scatter( test_y, test_y - pred_y )\n",
        "    plt.axhline(0, color='black')\n",
        "    plt.xlabel( \"Test y\" )\n",
        "    plt.ylabel( \"Test y - Predicted Y\" )\n",
        "    plt.title( \"Residuals\" )\n",
        "    plt.show()\n",
        "    fig.savefig('ResidualsBoston.png', bbox_inches='tight')\n",
        "    "
      ],
      "execution_count": 0,
      "outputs": [
        {
          "output_type": "display_data",
          "data": {
            "image/png": "[encoded data removed]",
            "text/plain": [
              "<Figure size 432x288 with 1 Axes>"
            ]
          },
          "metadata": {
            "tags": []
          }
        },
        {
          "output_type": "display_data",
          "data": {
            "image/png": "[encoded data removed]",
            "text/plain": [
              "<Figure size 432x288 with 1 Axes>"
            ]
          },
          "metadata": {
            "tags": []
          }
        }
      ]
    },
    {
      "cell_type": "code",
      "metadata": {
        "scrolled": false,
        "id": "dJsidsSXeS6W",
        "colab_type": "code",
        "outputId": "aa46ccf8-cfda-44d8-8f1a-af818488dfa8",
        "colab": {
          "base_uri": "https://localhost:8080/",
          "height": 295
        }
      },
      "source": [
        "    fig = plt.figure()\n",
        "    plt.semilogy( epochs, costs )\n",
        "    plt.xlabel( \"Epochs\" )\n",
        "    plt.ylabel( \"Cost\" )\n",
        "    plt.title( \"Cost vs. Epochs\")\n",
        "    plt.show()\n",
        "    fig.savefig('CostVsEpochs.png', bbox_inches='tight')"
      ],
      "execution_count": 0,
      "outputs": [
        {
          "output_type": "display_data",
          "data": {
            "image/png": "[encoded data removed]",
            "text/plain": [
              "<Figure size 432x288 with 1 Axes>"
            ]
          },
          "metadata": {
            "tags": []
          }
        }
      ]
    },
    {
      "cell_type": "code",
      "metadata": {
        "id": "ckbXmb8nfYXC",
        "colab_type": "code",
        "colab": {}
      },
      "source": [
        ""
      ],
      "execution_count": 0,
      "outputs": []
    }
  ]
}